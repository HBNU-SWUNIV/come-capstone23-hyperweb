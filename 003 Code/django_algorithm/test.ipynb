{
 "cells": [
  {
   "cell_type": "code",
   "execution_count": 6,
   "metadata": {},
   "outputs": [
    {
     "name": "stdout",
     "output_type": "stream",
     "text": [
      "43\n"
     ]
    }
   ],
   "source": [
    "print(len([\n",
    "            0, 0, 0, 0, 0, 0, 0, 0, 1250, 10, 150, 1000, 1500, 200, 20, 1.83,\n",
    "            1.25, 80, 0, 250, 375, 0.56, 1.3, 3.4, 3, 0, 0, 0, 7, 0, 3.125, 8.39,\n",
    "            0, 0, 0, 0, 0, 0, 0, 0, 0, 0, 0\n",
    "]))"
   ]
  }
 ],
 "metadata": {
  "kernelspec": {
   "display_name": "base",
   "language": "python",
   "name": "python3"
  },
  "language_info": {
   "codemirror_mode": {
    "name": "ipython",
    "version": 3
   },
   "file_extension": ".py",
   "mimetype": "text/x-python",
   "name": "python",
   "nbconvert_exporter": "python",
   "pygments_lexer": "ipython3",
   "version": "3.10.9"
  }
 },
 "nbformat": 4,
 "nbformat_minor": 2
}
